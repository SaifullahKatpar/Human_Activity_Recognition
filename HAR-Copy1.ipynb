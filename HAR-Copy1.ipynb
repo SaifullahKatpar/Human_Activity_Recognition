{
 "cells": [
  {
   "cell_type": "code",
   "execution_count": 2,
   "metadata": {},
   "outputs": [],
   "source": [
    "import pandas as pd\n",
    "import matplotlib.pyplot as plt\n"
   ]
  },
  {
   "cell_type": "code",
   "execution_count": 3,
   "metadata": {},
   "outputs": [],
   "source": [
    "df = pd.read_csv('dataset_2019041.csv',header=None)"
   ]
  },
  {
   "cell_type": "code",
   "execution_count": 4,
   "metadata": {
    "collapsed": true
   },
   "outputs": [
    {
     "data": {
      "text/plain": [
       "'\\naccelerometer data 100Hz\\n\\nx,y,z,timestamp,activty,user\\n\\nThe user presses a button before and after he completed an activity. So it\\'s better to remove some data in the beginning and the end of an activity. Or a percentage of the activity if the activity is very short. \\n\\n\\nuser mapping:\\n        \"mirko.arnold\": 1,\\n        \"ali.reza.jafarian\": 2,\\n        \"dimitri.hauri\": 3,\\n        \"fee.riebeling\": 4,\\n        \"anina.zingg\": 5,\\n        \"nicole.lucrezia\": 6,\\n        \"karolina.klucznik\": 7\\n\\n\\nactivities:\\n        \"Ankleiden\": 1,    wear clothes\\n        \"Auto fahren\": 2,  drive  \\n        \"Bett machen\": 3,  sleep\\n        \"Briefkasten leeren\": 4,   empty mailbox\\n        \"Buch oder Zeitschrift lesen\": 5,   read book\\n        \"Computerarbeit\": 6,  operate computer\\n        \"Einkäufe ausräumen\": 7,  \\n        \"Einkaufen\": 8,   shopping\\n        \"Entkleiden\": 9,    undress\\n        \"Essen\": 10,  eat\\n        \"Gehen\": 11,   walk\\n        \"Geschirrwaschmaschine ausräumen\": 12,  Clean up the dishwashing machine   \\n        \"Geschirrwaschmaschine einräumen\": 13,  Put in the dishwashing machine\\n        \"Kochen\": 14, Cook\\n        \"Lift fahren\": 15,   Drive a lift\\n        \"Mobile benutzen und surfen oder chatten\": 16, Use mobile and surf or chat\\n        \"Putzen\": 17,    ploish shoes\\n        \"TV schauen\": 18,   watch TV\\n        \"Zähne putzen\": 19   Brush teeth\\n\\n'"
      ]
     },
     "execution_count": 4,
     "metadata": {},
     "output_type": "execute_result"
    }
   ],
   "source": [
    "\"\"\"\n",
    "accelerometer data 100Hz\n",
    "\n",
    "x,y,z,timestamp,activty,user\n",
    "\n",
    "The user presses a button before and after he completed an activity. So it's better to remove some data in the beginning and the end of an activity. Or a percentage of the activity if the activity is very short. \n",
    "\n",
    "\n",
    "user mapping:\n",
    "        \"mirko.arnold\": 1,\n",
    "        \"ali.reza.jafarian\": 2,\n",
    "        \"dimitri.hauri\": 3,\n",
    "        \"fee.riebeling\": 4,\n",
    "        \"anina.zingg\": 5,\n",
    "        \"nicole.lucrezia\": 6,\n",
    "        \"karolina.klucznik\": 7\n",
    "\n",
    "\n",
    "activities:\n",
    "        \"Ankleiden\": 1,    wear clothes\n",
    "        \"Auto fahren\": 2,  drive  \n",
    "        \"Bett machen\": 3,  sleep\n",
    "        \"Briefkasten leeren\": 4,   empty mailbox\n",
    "        \"Buch oder Zeitschrift lesen\": 5,   read book\n",
    "        \"Computerarbeit\": 6,  operate computer\n",
    "        \"Einkäufe ausräumen\": 7,  clear shopping\n",
    "        \"Einkaufen\": 8,   shopping\n",
    "        \"Entkleiden\": 9,    undress\n",
    "        \"Essen\": 10,  eat\n",
    "        \"Gehen\": 11,   walk\n",
    "        \"Geschirrwaschmaschine ausräumen\": 12,  Clean up the dishwashing machine   \n",
    "        \"Geschirrwaschmaschine einräumen\": 13,  Put in the dishwashing machine\n",
    "        \"Kochen\": 14, Cook\n",
    "        \"Lift fahren\": 15,   Drive a lift\n",
    "        \"Mobile benutzen und surfen oder chatten\": 16, Use mobile and surf or chat\n",
    "        \"Putzen\": 17,    ploish shoes\n",
    "        \"TV schauen\": 18,   watch TV\n",
    "        \"Zähne putzen\": 19   Brush teeth\n",
    "\n",
    "\"\"\""
   ]
  },
  {
   "cell_type": "code",
   "execution_count": 5,
   "metadata": {},
   "outputs": [
    {
     "data": {
      "text/html": [
       "<div>\n",
       "<style scoped>\n",
       "    .dataframe tbody tr th:only-of-type {\n",
       "        vertical-align: middle;\n",
       "    }\n",
       "\n",
       "    .dataframe tbody tr th {\n",
       "        vertical-align: top;\n",
       "    }\n",
       "\n",
       "    .dataframe thead th {\n",
       "        text-align: right;\n",
       "    }\n",
       "</style>\n",
       "<table border=\"1\" class=\"dataframe\">\n",
       "  <thead>\n",
       "    <tr style=\"text-align: right;\">\n",
       "      <th></th>\n",
       "      <th>0</th>\n",
       "      <th>1</th>\n",
       "      <th>2</th>\n",
       "      <th>3</th>\n",
       "      <th>4</th>\n",
       "      <th>5</th>\n",
       "    </tr>\n",
       "  </thead>\n",
       "  <tbody>\n",
       "    <tr>\n",
       "      <th>0</th>\n",
       "      <td>-0.951225</td>\n",
       "      <td>-0.399994</td>\n",
       "      <td>0.022216</td>\n",
       "      <td>2019-03-26 07:30:10.003</td>\n",
       "      <td>10</td>\n",
       "      <td>6</td>\n",
       "    </tr>\n",
       "    <tr>\n",
       "      <th>1</th>\n",
       "      <td>-0.951225</td>\n",
       "      <td>-0.399994</td>\n",
       "      <td>0.022216</td>\n",
       "      <td>2019-03-26 07:30:10.012</td>\n",
       "      <td>10</td>\n",
       "      <td>6</td>\n",
       "    </tr>\n",
       "    <tr>\n",
       "      <th>2</th>\n",
       "      <td>-0.951225</td>\n",
       "      <td>-0.349995</td>\n",
       "      <td>0.022216</td>\n",
       "      <td>2019-03-26 07:30:10.022</td>\n",
       "      <td>10</td>\n",
       "      <td>6</td>\n",
       "    </tr>\n",
       "    <tr>\n",
       "      <th>3</th>\n",
       "      <td>-0.951225</td>\n",
       "      <td>-0.399994</td>\n",
       "      <td>0.022216</td>\n",
       "      <td>2019-03-26 07:30:10.032</td>\n",
       "      <td>10</td>\n",
       "      <td>6</td>\n",
       "    </tr>\n",
       "    <tr>\n",
       "      <th>4</th>\n",
       "      <td>-0.951225</td>\n",
       "      <td>-0.399994</td>\n",
       "      <td>-0.022228</td>\n",
       "      <td>2019-03-26 07:30:10.041</td>\n",
       "      <td>10</td>\n",
       "      <td>6</td>\n",
       "    </tr>\n",
       "  </tbody>\n",
       "</table>\n",
       "</div>"
      ],
      "text/plain": [
       "          0         1         2                        3   4  5\n",
       "0 -0.951225 -0.399994  0.022216  2019-03-26 07:30:10.003  10  6\n",
       "1 -0.951225 -0.399994  0.022216  2019-03-26 07:30:10.012  10  6\n",
       "2 -0.951225 -0.349995  0.022216  2019-03-26 07:30:10.022  10  6\n",
       "3 -0.951225 -0.399994  0.022216  2019-03-26 07:30:10.032  10  6\n",
       "4 -0.951225 -0.399994 -0.022228  2019-03-26 07:30:10.041  10  6"
      ]
     },
     "execution_count": 5,
     "metadata": {},
     "output_type": "execute_result"
    }
   ],
   "source": [
    "df.head()"
   ]
  },
  {
   "cell_type": "code",
   "execution_count": 6,
   "metadata": {},
   "outputs": [],
   "source": [
    "df.columns = ['x', 'y' , 'z' , 'timestamp' , 'activity' , 'user']"
   ]
  },
  {
   "cell_type": "code",
   "execution_count": 7,
   "metadata": {},
   "outputs": [
    {
     "data": {
      "text/html": [
       "<div>\n",
       "<style scoped>\n",
       "    .dataframe tbody tr th:only-of-type {\n",
       "        vertical-align: middle;\n",
       "    }\n",
       "\n",
       "    .dataframe tbody tr th {\n",
       "        vertical-align: top;\n",
       "    }\n",
       "\n",
       "    .dataframe thead th {\n",
       "        text-align: right;\n",
       "    }\n",
       "</style>\n",
       "<table border=\"1\" class=\"dataframe\">\n",
       "  <thead>\n",
       "    <tr style=\"text-align: right;\">\n",
       "      <th></th>\n",
       "      <th>x</th>\n",
       "      <th>y</th>\n",
       "      <th>z</th>\n",
       "      <th>timestamp</th>\n",
       "      <th>activity</th>\n",
       "      <th>user</th>\n",
       "    </tr>\n",
       "  </thead>\n",
       "  <tbody>\n",
       "    <tr>\n",
       "      <th>0</th>\n",
       "      <td>-0.951225</td>\n",
       "      <td>-0.399994</td>\n",
       "      <td>0.022216</td>\n",
       "      <td>2019-03-26 07:30:10.003</td>\n",
       "      <td>10</td>\n",
       "      <td>6</td>\n",
       "    </tr>\n",
       "    <tr>\n",
       "      <th>1</th>\n",
       "      <td>-0.951225</td>\n",
       "      <td>-0.399994</td>\n",
       "      <td>0.022216</td>\n",
       "      <td>2019-03-26 07:30:10.012</td>\n",
       "      <td>10</td>\n",
       "      <td>6</td>\n",
       "    </tr>\n",
       "    <tr>\n",
       "      <th>2</th>\n",
       "      <td>-0.951225</td>\n",
       "      <td>-0.349995</td>\n",
       "      <td>0.022216</td>\n",
       "      <td>2019-03-26 07:30:10.022</td>\n",
       "      <td>10</td>\n",
       "      <td>6</td>\n",
       "    </tr>\n",
       "    <tr>\n",
       "      <th>3</th>\n",
       "      <td>-0.951225</td>\n",
       "      <td>-0.399994</td>\n",
       "      <td>0.022216</td>\n",
       "      <td>2019-03-26 07:30:10.032</td>\n",
       "      <td>10</td>\n",
       "      <td>6</td>\n",
       "    </tr>\n",
       "    <tr>\n",
       "      <th>4</th>\n",
       "      <td>-0.951225</td>\n",
       "      <td>-0.399994</td>\n",
       "      <td>-0.022228</td>\n",
       "      <td>2019-03-26 07:30:10.041</td>\n",
       "      <td>10</td>\n",
       "      <td>6</td>\n",
       "    </tr>\n",
       "  </tbody>\n",
       "</table>\n",
       "</div>"
      ],
      "text/plain": [
       "          x         y         z                timestamp  activity  user\n",
       "0 -0.951225 -0.399994  0.022216  2019-03-26 07:30:10.003        10     6\n",
       "1 -0.951225 -0.399994  0.022216  2019-03-26 07:30:10.012        10     6\n",
       "2 -0.951225 -0.349995  0.022216  2019-03-26 07:30:10.022        10     6\n",
       "3 -0.951225 -0.399994  0.022216  2019-03-26 07:30:10.032        10     6\n",
       "4 -0.951225 -0.399994 -0.022228  2019-03-26 07:30:10.041        10     6"
      ]
     },
     "execution_count": 7,
     "metadata": {},
     "output_type": "execute_result"
    }
   ],
   "source": [
    "df.head()"
   ]
  },
  {
   "cell_type": "code",
   "execution_count": 8,
   "metadata": {},
   "outputs": [],
   "source": [
    "df['timestamp'] = pd.to_datetime(df['timestamp'])"
   ]
  },
  {
   "cell_type": "code",
   "execution_count": 9,
   "metadata": {},
   "outputs": [
    {
     "name": "stdout",
     "output_type": "stream",
     "text": [
      "Shape of the data set: (23069658, 6)\n"
     ]
    }
   ],
   "source": [
    "print('Shape of the data set: ' + str(df.shape))"
   ]
  },
  {
   "cell_type": "code",
   "execution_count": 10,
   "metadata": {},
   "outputs": [
    {
     "name": "stdout",
     "output_type": "stream",
     "text": [
      "Amount of rows with missing values: 0\n"
     ]
    }
   ],
   "source": [
    "#check for missing values\n",
    "Temp = pd.DataFrame(df.isnull().sum())\n",
    "Temp.columns = ['Sum']\n",
    "print('Amount of rows with missing values: ' + str(len(Temp.index[Temp['Sum'] > 0])) )"
   ]
  },
  {
   "cell_type": "code",
   "execution_count": 11,
   "metadata": {},
   "outputs": [
    {
     "data": {
      "text/html": [
       "<div>\n",
       "<style scoped>\n",
       "    .dataframe tbody tr th:only-of-type {\n",
       "        vertical-align: middle;\n",
       "    }\n",
       "\n",
       "    .dataframe tbody tr th {\n",
       "        vertical-align: top;\n",
       "    }\n",
       "\n",
       "    .dataframe thead th {\n",
       "        text-align: right;\n",
       "    }\n",
       "</style>\n",
       "<table border=\"1\" class=\"dataframe\">\n",
       "  <thead>\n",
       "    <tr style=\"text-align: right;\">\n",
       "      <th></th>\n",
       "      <th>x</th>\n",
       "      <th>y</th>\n",
       "      <th>z</th>\n",
       "      <th>timestamp</th>\n",
       "      <th>activity</th>\n",
       "      <th>user</th>\n",
       "    </tr>\n",
       "  </thead>\n",
       "  <tbody>\n",
       "    <tr>\n",
       "      <th>0</th>\n",
       "      <td>-0.951225</td>\n",
       "      <td>-0.399994</td>\n",
       "      <td>0.022216</td>\n",
       "      <td>2019-03-26 07:30:10.003</td>\n",
       "      <td>10</td>\n",
       "      <td>6</td>\n",
       "    </tr>\n",
       "    <tr>\n",
       "      <th>1</th>\n",
       "      <td>-0.951225</td>\n",
       "      <td>-0.399994</td>\n",
       "      <td>0.022216</td>\n",
       "      <td>2019-03-26 07:30:10.012</td>\n",
       "      <td>10</td>\n",
       "      <td>6</td>\n",
       "    </tr>\n",
       "    <tr>\n",
       "      <th>2</th>\n",
       "      <td>-0.951225</td>\n",
       "      <td>-0.349995</td>\n",
       "      <td>0.022216</td>\n",
       "      <td>2019-03-26 07:30:10.022</td>\n",
       "      <td>10</td>\n",
       "      <td>6</td>\n",
       "    </tr>\n",
       "    <tr>\n",
       "      <th>3</th>\n",
       "      <td>-0.951225</td>\n",
       "      <td>-0.399994</td>\n",
       "      <td>0.022216</td>\n",
       "      <td>2019-03-26 07:30:10.032</td>\n",
       "      <td>10</td>\n",
       "      <td>6</td>\n",
       "    </tr>\n",
       "    <tr>\n",
       "      <th>4</th>\n",
       "      <td>-0.951225</td>\n",
       "      <td>-0.399994</td>\n",
       "      <td>-0.022228</td>\n",
       "      <td>2019-03-26 07:30:10.041</td>\n",
       "      <td>10</td>\n",
       "      <td>6</td>\n",
       "    </tr>\n",
       "  </tbody>\n",
       "</table>\n",
       "</div>"
      ],
      "text/plain": [
       "          x         y         z               timestamp  activity  user\n",
       "0 -0.951225 -0.399994  0.022216 2019-03-26 07:30:10.003        10     6\n",
       "1 -0.951225 -0.399994  0.022216 2019-03-26 07:30:10.012        10     6\n",
       "2 -0.951225 -0.349995  0.022216 2019-03-26 07:30:10.022        10     6\n",
       "3 -0.951225 -0.399994  0.022216 2019-03-26 07:30:10.032        10     6\n",
       "4 -0.951225 -0.399994 -0.022228 2019-03-26 07:30:10.041        10     6"
      ]
     },
     "execution_count": 11,
     "metadata": {},
     "output_type": "execute_result"
    }
   ],
   "source": [
    "df.head()"
   ]
  },
  {
   "cell_type": "code",
   "execution_count": 12,
   "metadata": {},
   "outputs": [
    {
     "data": {
      "text/html": [
       "<div>\n",
       "<style scoped>\n",
       "    .dataframe tbody tr th:only-of-type {\n",
       "        vertical-align: middle;\n",
       "    }\n",
       "\n",
       "    .dataframe tbody tr th {\n",
       "        vertical-align: top;\n",
       "    }\n",
       "\n",
       "    .dataframe thead th {\n",
       "        text-align: right;\n",
       "    }\n",
       "</style>\n",
       "<table border=\"1\" class=\"dataframe\">\n",
       "  <thead>\n",
       "    <tr style=\"text-align: right;\">\n",
       "      <th></th>\n",
       "      <th>x</th>\n",
       "      <th>y</th>\n",
       "      <th>z</th>\n",
       "      <th>timestamp</th>\n",
       "      <th>activity</th>\n",
       "      <th>user</th>\n",
       "    </tr>\n",
       "  </thead>\n",
       "  <tbody>\n",
       "    <tr>\n",
       "      <th>23069653</th>\n",
       "      <td>-0.799212</td>\n",
       "      <td>0.300781</td>\n",
       "      <td>-0.357572</td>\n",
       "      <td>2019-04-10 08:14:49.959</td>\n",
       "      <td>6</td>\n",
       "      <td>7</td>\n",
       "    </tr>\n",
       "    <tr>\n",
       "      <th>23069654</th>\n",
       "      <td>-0.814960</td>\n",
       "      <td>0.285156</td>\n",
       "      <td>-0.345451</td>\n",
       "      <td>2019-04-10 08:14:49.969</td>\n",
       "      <td>6</td>\n",
       "      <td>7</td>\n",
       "    </tr>\n",
       "    <tr>\n",
       "      <th>23069655</th>\n",
       "      <td>-0.822834</td>\n",
       "      <td>0.277344</td>\n",
       "      <td>-0.337371</td>\n",
       "      <td>2019-04-10 08:14:49.979</td>\n",
       "      <td>6</td>\n",
       "      <td>7</td>\n",
       "    </tr>\n",
       "    <tr>\n",
       "      <th>23069656</th>\n",
       "      <td>-0.834645</td>\n",
       "      <td>0.265625</td>\n",
       "      <td>-0.333330</td>\n",
       "      <td>2019-04-10 08:14:49.989</td>\n",
       "      <td>6</td>\n",
       "      <td>7</td>\n",
       "    </tr>\n",
       "    <tr>\n",
       "      <th>23069657</th>\n",
       "      <td>-0.846456</td>\n",
       "      <td>0.257812</td>\n",
       "      <td>-0.321209</td>\n",
       "      <td>2019-04-10 08:14:49.999</td>\n",
       "      <td>6</td>\n",
       "      <td>7</td>\n",
       "    </tr>\n",
       "  </tbody>\n",
       "</table>\n",
       "</div>"
      ],
      "text/plain": [
       "                 x         y         z               timestamp  activity  user\n",
       "23069653 -0.799212  0.300781 -0.357572 2019-04-10 08:14:49.959         6     7\n",
       "23069654 -0.814960  0.285156 -0.345451 2019-04-10 08:14:49.969         6     7\n",
       "23069655 -0.822834  0.277344 -0.337371 2019-04-10 08:14:49.979         6     7\n",
       "23069656 -0.834645  0.265625 -0.333330 2019-04-10 08:14:49.989         6     7\n",
       "23069657 -0.846456  0.257812 -0.321209 2019-04-10 08:14:49.999         6     7"
      ]
     },
     "execution_count": 12,
     "metadata": {},
     "output_type": "execute_result"
    }
   ],
   "source": [
    "df.tail()"
   ]
  },
  {
   "cell_type": "markdown",
   "metadata": {},
   "source": [
    "# Data Points Per User"
   ]
  },
  {
   "cell_type": "code",
   "execution_count": 13,
   "metadata": {},
   "outputs": [],
   "source": [
    "data_points_per_user = df.groupby(['user']).count()"
   ]
  },
  {
   "cell_type": "code",
   "execution_count": 14,
   "metadata": {},
   "outputs": [
    {
     "data": {
      "text/plain": [
       "<matplotlib.axes._subplots.AxesSubplot at 0x2460002d240>"
      ]
     },
     "execution_count": 14,
     "metadata": {},
     "output_type": "execute_result"
    },
    {
     "data": {
      "image/png": "[encoded data removed]",
      "text/plain": [
       "<Figure size 432x288 with 1 Axes>"
      ]
     },
     "metadata": {},
     "output_type": "display_data"
    }
   ],
   "source": [
    "data_points_per_user.plot.bar(y='x')"
   ]
  },
  {
   "cell_type": "markdown",
   "metadata": {},
   "source": [
    "# Activities Per User\n",
    "\n",
    "1. wear clothes\n",
    "2. drive  \n",
    "3. sleep\n",
    "4. empty mailbox\n",
    "5. read book\n",
    "6. operate computer\n",
    "7. clear shopping\n",
    "8. shopping\n",
    "9. undress\n",
    "10. eat\n",
    "11. walk\n",
    "12. Clean up the dishwashing machine   \n",
    "13. Put in the dishwashing machine\n",
    "14. Cook\n",
    "15. Drive a lift\n",
    "16. Use mobile and surf or chat\n",
    "17. ploish shoes\n",
    "18. watch TV\n",
    "19. Brush teeth\n"
   ]
  },
  {
   "cell_type": "code",
   "execution_count": 15,
   "metadata": {},
   "outputs": [],
   "source": [
    "activites_per_user = df.groupby(['user','activity']).count()"
   ]
  },
  {
   "cell_type": "code",
   "execution_count": 16,
   "metadata": {},
   "outputs": [
    {
     "data": {
      "text/html": [
       "<div>\n",
       "<style scoped>\n",
       "    .dataframe tbody tr th:only-of-type {\n",
       "        vertical-align: middle;\n",
       "    }\n",
       "\n",
       "    .dataframe tbody tr th {\n",
       "        vertical-align: top;\n",
       "    }\n",
       "\n",
       "    .dataframe thead th {\n",
       "        text-align: right;\n",
       "    }\n",
       "</style>\n",
       "<table border=\"1\" class=\"dataframe\">\n",
       "  <thead>\n",
       "    <tr style=\"text-align: right;\">\n",
       "      <th></th>\n",
       "      <th></th>\n",
       "      <th>x</th>\n",
       "      <th>y</th>\n",
       "      <th>z</th>\n",
       "      <th>timestamp</th>\n",
       "    </tr>\n",
       "    <tr>\n",
       "      <th>user</th>\n",
       "      <th>activity</th>\n",
       "      <th></th>\n",
       "      <th></th>\n",
       "      <th></th>\n",
       "      <th></th>\n",
       "    </tr>\n",
       "  </thead>\n",
       "  <tbody>\n",
       "    <tr>\n",
       "      <th rowspan=\"11\" valign=\"top\">1</th>\n",
       "      <th>1</th>\n",
       "      <td>4045</td>\n",
       "      <td>4045</td>\n",
       "      <td>4045</td>\n",
       "      <td>4045</td>\n",
       "    </tr>\n",
       "    <tr>\n",
       "      <th>3</th>\n",
       "      <td>3969</td>\n",
       "      <td>3969</td>\n",
       "      <td>3969</td>\n",
       "      <td>3969</td>\n",
       "    </tr>\n",
       "    <tr>\n",
       "      <th>4</th>\n",
       "      <td>4065</td>\n",
       "      <td>4065</td>\n",
       "      <td>4065</td>\n",
       "      <td>4065</td>\n",
       "    </tr>\n",
       "    <tr>\n",
       "      <th>6</th>\n",
       "      <td>1762439</td>\n",
       "      <td>1762439</td>\n",
       "      <td>1762439</td>\n",
       "      <td>1762439</td>\n",
       "    </tr>\n",
       "    <tr>\n",
       "      <th>7</th>\n",
       "      <td>16240</td>\n",
       "      <td>16240</td>\n",
       "      <td>16240</td>\n",
       "      <td>16240</td>\n",
       "    </tr>\n",
       "    <tr>\n",
       "      <th>8</th>\n",
       "      <td>58788</td>\n",
       "      <td>58788</td>\n",
       "      <td>58788</td>\n",
       "      <td>58788</td>\n",
       "    </tr>\n",
       "    <tr>\n",
       "      <th>10</th>\n",
       "      <td>262835</td>\n",
       "      <td>262835</td>\n",
       "      <td>262835</td>\n",
       "      <td>262835</td>\n",
       "    </tr>\n",
       "    <tr>\n",
       "      <th>11</th>\n",
       "      <td>40528</td>\n",
       "      <td>40528</td>\n",
       "      <td>40528</td>\n",
       "      <td>40528</td>\n",
       "    </tr>\n",
       "    <tr>\n",
       "      <th>14</th>\n",
       "      <td>46606</td>\n",
       "      <td>46606</td>\n",
       "      <td>46606</td>\n",
       "      <td>46606</td>\n",
       "    </tr>\n",
       "    <tr>\n",
       "      <th>17</th>\n",
       "      <td>16214</td>\n",
       "      <td>16214</td>\n",
       "      <td>16214</td>\n",
       "      <td>16214</td>\n",
       "    </tr>\n",
       "    <tr>\n",
       "      <th>19</th>\n",
       "      <td>24301</td>\n",
       "      <td>24301</td>\n",
       "      <td>24301</td>\n",
       "      <td>24301</td>\n",
       "    </tr>\n",
       "    <tr>\n",
       "      <th rowspan=\"11\" valign=\"top\">2</th>\n",
       "      <th>1</th>\n",
       "      <td>14218</td>\n",
       "      <td>14218</td>\n",
       "      <td>14218</td>\n",
       "      <td>14218</td>\n",
       "    </tr>\n",
       "    <tr>\n",
       "      <th>3</th>\n",
       "      <td>26308</td>\n",
       "      <td>26308</td>\n",
       "      <td>26308</td>\n",
       "      <td>26308</td>\n",
       "    </tr>\n",
       "    <tr>\n",
       "      <th>6</th>\n",
       "      <td>1568162</td>\n",
       "      <td>1568162</td>\n",
       "      <td>1568162</td>\n",
       "      <td>1568162</td>\n",
       "    </tr>\n",
       "    <tr>\n",
       "      <th>8</th>\n",
       "      <td>58644</td>\n",
       "      <td>58644</td>\n",
       "      <td>58644</td>\n",
       "      <td>58644</td>\n",
       "    </tr>\n",
       "    <tr>\n",
       "      <th>9</th>\n",
       "      <td>10140</td>\n",
       "      <td>10140</td>\n",
       "      <td>10140</td>\n",
       "      <td>10140</td>\n",
       "    </tr>\n",
       "    <tr>\n",
       "      <th>10</th>\n",
       "      <td>834289</td>\n",
       "      <td>834289</td>\n",
       "      <td>834289</td>\n",
       "      <td>834289</td>\n",
       "    </tr>\n",
       "    <tr>\n",
       "      <th>11</th>\n",
       "      <td>200201</td>\n",
       "      <td>200201</td>\n",
       "      <td>200201</td>\n",
       "      <td>200201</td>\n",
       "    </tr>\n",
       "    <tr>\n",
       "      <th>14</th>\n",
       "      <td>165641</td>\n",
       "      <td>165641</td>\n",
       "      <td>165641</td>\n",
       "      <td>165641</td>\n",
       "    </tr>\n",
       "    <tr>\n",
       "      <th>17</th>\n",
       "      <td>191719</td>\n",
       "      <td>191719</td>\n",
       "      <td>191719</td>\n",
       "      <td>191719</td>\n",
       "    </tr>\n",
       "    <tr>\n",
       "      <th>18</th>\n",
       "      <td>4752919</td>\n",
       "      <td>4752919</td>\n",
       "      <td>4752919</td>\n",
       "      <td>4752919</td>\n",
       "    </tr>\n",
       "    <tr>\n",
       "      <th>19</th>\n",
       "      <td>70701</td>\n",
       "      <td>70701</td>\n",
       "      <td>70701</td>\n",
       "      <td>70701</td>\n",
       "    </tr>\n",
       "    <tr>\n",
       "      <th rowspan=\"8\" valign=\"top\">3</th>\n",
       "      <th>1</th>\n",
       "      <td>58118</td>\n",
       "      <td>58118</td>\n",
       "      <td>58118</td>\n",
       "      <td>58118</td>\n",
       "    </tr>\n",
       "    <tr>\n",
       "      <th>3</th>\n",
       "      <td>8299</td>\n",
       "      <td>8299</td>\n",
       "      <td>8299</td>\n",
       "      <td>8299</td>\n",
       "    </tr>\n",
       "    <tr>\n",
       "      <th>4</th>\n",
       "      <td>6724</td>\n",
       "      <td>6724</td>\n",
       "      <td>6724</td>\n",
       "      <td>6724</td>\n",
       "    </tr>\n",
       "    <tr>\n",
       "      <th>5</th>\n",
       "      <td>257087</td>\n",
       "      <td>257087</td>\n",
       "      <td>257087</td>\n",
       "      <td>257087</td>\n",
       "    </tr>\n",
       "    <tr>\n",
       "      <th>6</th>\n",
       "      <td>903652</td>\n",
       "      <td>903652</td>\n",
       "      <td>903652</td>\n",
       "      <td>903652</td>\n",
       "    </tr>\n",
       "    <tr>\n",
       "      <th>7</th>\n",
       "      <td>125903</td>\n",
       "      <td>125903</td>\n",
       "      <td>125903</td>\n",
       "      <td>125903</td>\n",
       "    </tr>\n",
       "    <tr>\n",
       "      <th>8</th>\n",
       "      <td>830006</td>\n",
       "      <td>830006</td>\n",
       "      <td>830006</td>\n",
       "      <td>830006</td>\n",
       "    </tr>\n",
       "    <tr>\n",
       "      <th>9</th>\n",
       "      <td>22669</td>\n",
       "      <td>22669</td>\n",
       "      <td>22669</td>\n",
       "      <td>22669</td>\n",
       "    </tr>\n",
       "    <tr>\n",
       "      <th>...</th>\n",
       "      <th>...</th>\n",
       "      <td>...</td>\n",
       "      <td>...</td>\n",
       "      <td>...</td>\n",
       "      <td>...</td>\n",
       "    </tr>\n",
       "    <tr>\n",
       "      <th rowspan=\"14\" valign=\"top\">6</th>\n",
       "      <th>4</th>\n",
       "      <td>4181</td>\n",
       "      <td>4181</td>\n",
       "      <td>4181</td>\n",
       "      <td>4181</td>\n",
       "    </tr>\n",
       "    <tr>\n",
       "      <th>5</th>\n",
       "      <td>194404</td>\n",
       "      <td>194404</td>\n",
       "      <td>194404</td>\n",
       "      <td>194404</td>\n",
       "    </tr>\n",
       "    <tr>\n",
       "      <th>6</th>\n",
       "      <td>677107</td>\n",
       "      <td>677107</td>\n",
       "      <td>677107</td>\n",
       "      <td>677107</td>\n",
       "    </tr>\n",
       "    <tr>\n",
       "      <th>7</th>\n",
       "      <td>10324</td>\n",
       "      <td>10324</td>\n",
       "      <td>10324</td>\n",
       "      <td>10324</td>\n",
       "    </tr>\n",
       "    <tr>\n",
       "      <th>8</th>\n",
       "      <td>41430</td>\n",
       "      <td>41430</td>\n",
       "      <td>41430</td>\n",
       "      <td>41430</td>\n",
       "    </tr>\n",
       "    <tr>\n",
       "      <th>9</th>\n",
       "      <td>4137</td>\n",
       "      <td>4137</td>\n",
       "      <td>4137</td>\n",
       "      <td>4137</td>\n",
       "    </tr>\n",
       "    <tr>\n",
       "      <th>10</th>\n",
       "      <td>150720</td>\n",
       "      <td>150720</td>\n",
       "      <td>150720</td>\n",
       "      <td>150720</td>\n",
       "    </tr>\n",
       "    <tr>\n",
       "      <th>11</th>\n",
       "      <td>147513</td>\n",
       "      <td>147513</td>\n",
       "      <td>147513</td>\n",
       "      <td>147513</td>\n",
       "    </tr>\n",
       "    <tr>\n",
       "      <th>13</th>\n",
       "      <td>37210</td>\n",
       "      <td>37210</td>\n",
       "      <td>37210</td>\n",
       "      <td>37210</td>\n",
       "    </tr>\n",
       "    <tr>\n",
       "      <th>14</th>\n",
       "      <td>121925</td>\n",
       "      <td>121925</td>\n",
       "      <td>121925</td>\n",
       "      <td>121925</td>\n",
       "    </tr>\n",
       "    <tr>\n",
       "      <th>15</th>\n",
       "      <td>4140</td>\n",
       "      <td>4140</td>\n",
       "      <td>4140</td>\n",
       "      <td>4140</td>\n",
       "    </tr>\n",
       "    <tr>\n",
       "      <th>16</th>\n",
       "      <td>82748</td>\n",
       "      <td>82748</td>\n",
       "      <td>82748</td>\n",
       "      <td>82748</td>\n",
       "    </tr>\n",
       "    <tr>\n",
       "      <th>17</th>\n",
       "      <td>103254</td>\n",
       "      <td>103254</td>\n",
       "      <td>103254</td>\n",
       "      <td>103254</td>\n",
       "    </tr>\n",
       "    <tr>\n",
       "      <th>19</th>\n",
       "      <td>45479</td>\n",
       "      <td>45479</td>\n",
       "      <td>45479</td>\n",
       "      <td>45479</td>\n",
       "    </tr>\n",
       "    <tr>\n",
       "      <th rowspan=\"16\" valign=\"top\">7</th>\n",
       "      <th>1</th>\n",
       "      <td>4062</td>\n",
       "      <td>4062</td>\n",
       "      <td>4062</td>\n",
       "      <td>4062</td>\n",
       "    </tr>\n",
       "    <tr>\n",
       "      <th>2</th>\n",
       "      <td>257858</td>\n",
       "      <td>257858</td>\n",
       "      <td>257858</td>\n",
       "      <td>257858</td>\n",
       "    </tr>\n",
       "    <tr>\n",
       "      <th>3</th>\n",
       "      <td>4042</td>\n",
       "      <td>4042</td>\n",
       "      <td>4042</td>\n",
       "      <td>4042</td>\n",
       "    </tr>\n",
       "    <tr>\n",
       "      <th>5</th>\n",
       "      <td>143226</td>\n",
       "      <td>143226</td>\n",
       "      <td>143226</td>\n",
       "      <td>143226</td>\n",
       "    </tr>\n",
       "    <tr>\n",
       "      <th>6</th>\n",
       "      <td>100756</td>\n",
       "      <td>100756</td>\n",
       "      <td>100756</td>\n",
       "      <td>100756</td>\n",
       "    </tr>\n",
       "    <tr>\n",
       "      <th>7</th>\n",
       "      <td>10097</td>\n",
       "      <td>10097</td>\n",
       "      <td>10097</td>\n",
       "      <td>10097</td>\n",
       "    </tr>\n",
       "    <tr>\n",
       "      <th>8</th>\n",
       "      <td>82715</td>\n",
       "      <td>82715</td>\n",
       "      <td>82715</td>\n",
       "      <td>82715</td>\n",
       "    </tr>\n",
       "    <tr>\n",
       "      <th>10</th>\n",
       "      <td>64557</td>\n",
       "      <td>64557</td>\n",
       "      <td>64557</td>\n",
       "      <td>64557</td>\n",
       "    </tr>\n",
       "    <tr>\n",
       "      <th>11</th>\n",
       "      <td>40579</td>\n",
       "      <td>40579</td>\n",
       "      <td>40579</td>\n",
       "      <td>40579</td>\n",
       "    </tr>\n",
       "    <tr>\n",
       "      <th>12</th>\n",
       "      <td>4039</td>\n",
       "      <td>4039</td>\n",
       "      <td>4039</td>\n",
       "      <td>4039</td>\n",
       "    </tr>\n",
       "    <tr>\n",
       "      <th>13</th>\n",
       "      <td>4054</td>\n",
       "      <td>4054</td>\n",
       "      <td>4054</td>\n",
       "      <td>4054</td>\n",
       "    </tr>\n",
       "    <tr>\n",
       "      <th>14</th>\n",
       "      <td>46428</td>\n",
       "      <td>46428</td>\n",
       "      <td>46428</td>\n",
       "      <td>46428</td>\n",
       "    </tr>\n",
       "    <tr>\n",
       "      <th>15</th>\n",
       "      <td>4038</td>\n",
       "      <td>4038</td>\n",
       "      <td>4038</td>\n",
       "      <td>4038</td>\n",
       "    </tr>\n",
       "    <tr>\n",
       "      <th>16</th>\n",
       "      <td>119405</td>\n",
       "      <td>119405</td>\n",
       "      <td>119405</td>\n",
       "      <td>119405</td>\n",
       "    </tr>\n",
       "    <tr>\n",
       "      <th>17</th>\n",
       "      <td>28318</td>\n",
       "      <td>28318</td>\n",
       "      <td>28318</td>\n",
       "      <td>28318</td>\n",
       "    </tr>\n",
       "    <tr>\n",
       "      <th>19</th>\n",
       "      <td>10102</td>\n",
       "      <td>10102</td>\n",
       "      <td>10102</td>\n",
       "      <td>10102</td>\n",
       "    </tr>\n",
       "  </tbody>\n",
       "</table>\n",
       "<p>84 rows × 4 columns</p>\n",
       "</div>"
      ],
      "text/plain": [
       "                     x        y        z  timestamp\n",
       "user activity                                      \n",
       "1    1            4045     4045     4045       4045\n",
       "     3            3969     3969     3969       3969\n",
       "     4            4065     4065     4065       4065\n",
       "     6         1762439  1762439  1762439    1762439\n",
       "     7           16240    16240    16240      16240\n",
       "     8           58788    58788    58788      58788\n",
       "     10         262835   262835   262835     262835\n",
       "     11          40528    40528    40528      40528\n",
       "     14          46606    46606    46606      46606\n",
       "     17          16214    16214    16214      16214\n",
       "     19          24301    24301    24301      24301\n",
       "2    1           14218    14218    14218      14218\n",
       "     3           26308    26308    26308      26308\n",
       "     6         1568162  1568162  1568162    1568162\n",
       "     8           58644    58644    58644      58644\n",
       "     9           10140    10140    10140      10140\n",
       "     10         834289   834289   834289     834289\n",
       "     11         200201   200201   200201     200201\n",
       "     14         165641   165641   165641     165641\n",
       "     17         191719   191719   191719     191719\n",
       "     18        4752919  4752919  4752919    4752919\n",
       "     19          70701    70701    70701      70701\n",
       "3    1           58118    58118    58118      58118\n",
       "     3            8299     8299     8299       8299\n",
       "     4            6724     6724     6724       6724\n",
       "     5          257087   257087   257087     257087\n",
       "     6          903652   903652   903652     903652\n",
       "     7          125903   125903   125903     125903\n",
       "     8          830006   830006   830006     830006\n",
       "     9           22669    22669    22669      22669\n",
       "...                ...      ...      ...        ...\n",
       "6    4            4181     4181     4181       4181\n",
       "     5          194404   194404   194404     194404\n",
       "     6          677107   677107   677107     677107\n",
       "     7           10324    10324    10324      10324\n",
       "     8           41430    41430    41430      41430\n",
       "     9            4137     4137     4137       4137\n",
       "     10         150720   150720   150720     150720\n",
       "     11         147513   147513   147513     147513\n",
       "     13          37210    37210    37210      37210\n",
       "     14         121925   121925   121925     121925\n",
       "     15           4140     4140     4140       4140\n",
       "     16          82748    82748    82748      82748\n",
       "     17         103254   103254   103254     103254\n",
       "     19          45479    45479    45479      45479\n",
       "7    1            4062     4062     4062       4062\n",
       "     2          257858   257858   257858     257858\n",
       "     3            4042     4042     4042       4042\n",
       "     5          143226   143226   143226     143226\n",
       "     6          100756   100756   100756     100756\n",
       "     7           10097    10097    10097      10097\n",
       "     8           82715    82715    82715      82715\n",
       "     10          64557    64557    64557      64557\n",
       "     11          40579    40579    40579      40579\n",
       "     12           4039     4039     4039       4039\n",
       "     13           4054     4054     4054       4054\n",
       "     14          46428    46428    46428      46428\n",
       "     15           4038     4038     4038       4038\n",
       "     16         119405   119405   119405     119405\n",
       "     17          28318    28318    28318      28318\n",
       "     19          10102    10102    10102      10102\n",
       "\n",
       "[84 rows x 4 columns]"
      ]
     },
     "execution_count": 16,
     "metadata": {},
     "output_type": "execute_result"
    }
   ],
   "source": [
    "activites_per_user"
   ]
  },
  {
   "cell_type": "markdown",
   "metadata": {},
   "source": [
    "## Count of activities of  user:1 Mirko Arnold\n",
    "\n",
    "Arnold has spent more time operating computer."
   ]
  },
  {
   "cell_type": "code",
   "execution_count": 27,
   "metadata": {},
   "outputs": [
    {
     "data": {
      "text/plain": [
       "<matplotlib.axes._subplots.AxesSubplot at 0x24601239710>"
      ]
     },
     "execution_count": 27,
     "metadata": {},
     "output_type": "execute_result"
    },
    {
     "data": {
      "image/png": "[encoded data removed]",
      "text/plain": [
       "<Figure size 432x288 with 1 Axes>"
      ]
     },
     "metadata": {},
     "output_type": "display_data"
    }
   ],
   "source": [
    "activities_user_1 = df.loc[df['user']==1,:].groupby(['activity']).count()\n",
    "activities_user_1.plot.bar(y='x')\n"
   ]
  },
  {
   "cell_type": "markdown",
   "metadata": {},
   "source": [
    "## Count of activities of  user:2 Ali Reza Jafarian\n",
    "\n",
    "Jafarian has spent mpre time watching TV."
   ]
  },
  {
   "cell_type": "code",
   "execution_count": 26,
   "metadata": {},
   "outputs": [
    {
     "data": {
      "text/plain": [
       "<matplotlib.axes._subplots.AxesSubplot at 0x246011c4160>"
      ]
     },
     "execution_count": 26,
     "metadata": {},
     "output_type": "execute_result"
    },
    {
     "data": {
      "image/png": "[encoded data removed]",
      "text/plain": [
       "<Figure size 432x288 with 1 Axes>"
      ]
     },
     "metadata": {},
     "output_type": "display_data"
    }
   ],
   "source": [
    "## Count of activities of  user:2\n",
    "\n",
    "activities_user_2 = df.loc[df['user']==2,:].groupby(['activity']).count()\n",
    "activities_user_2.plot.bar(y='x')"
   ]
  },
  {
   "cell_type": "markdown",
   "metadata": {},
   "source": [
    "## Count of activities of  user:3 Dimitri Hauri\n",
    "Hauri has spent more time operating computer, shopping and eating."
   ]
  },
  {
   "cell_type": "code",
   "execution_count": 28,
   "metadata": {},
   "outputs": [
    {
     "data": {
      "text/plain": [
       "<matplotlib.axes._subplots.AxesSubplot at 0x246014254e0>"
      ]
     },
     "execution_count": 28,
     "metadata": {},
     "output_type": "execute_result"
    },
    {
     "data": {
      "image/png": "[encoded data removed]",
      "text/plain": [
       "<Figure size 432x288 with 1 Axes>"
      ]
     },
     "metadata": {},
     "output_type": "display_data"
    }
   ],
   "source": [
    "## Count of activities of  user:3\n",
    "\n",
    "activities_user_3 = df.loc[df['user']==3,:].groupby(['activity']).count()\n",
    "activities_user_3.plot.bar(y='x')"
   ]
  },
  {
   "cell_type": "markdown",
   "metadata": {},
   "source": [
    "## Count of activities of  user:4 Fee Riebeling\n",
    "\n",
    "Riebeling has spent more time operating computer and walking\n"
   ]
  },
  {
   "cell_type": "code",
   "execution_count": 29,
   "metadata": {},
   "outputs": [
    {
     "data": {
      "text/plain": [
       "<matplotlib.axes._subplots.AxesSubplot at 0x246014ad4e0>"
      ]
     },
     "execution_count": 29,
     "metadata": {},
     "output_type": "execute_result"
    },
    {
     "data": {
      "image/png": "[encoded data removed]",
      "text/plain": [
       "<Figure size 432x288 with 1 Axes>"
      ]
     },
     "metadata": {},
     "output_type": "display_data"
    }
   ],
   "source": [
    "## Count of activities of  user:4\n",
    "\n",
    "activities_user_4 = df.loc[df['user']==4,:].groupby(['activity']).count()\n",
    "activities_user_4.plot.bar(y='x')"
   ]
  },
  {
   "cell_type": "markdown",
   "metadata": {},
   "source": [
    "## Count of activities of  user:5 Anina Zingg\n",
    "\n",
    "Zingg has spent more time driving, walking and polishing shoes.\n"
   ]
  },
  {
   "cell_type": "code",
   "execution_count": 30,
   "metadata": {},
   "outputs": [
    {
     "data": {
      "text/plain": [
       "<matplotlib.axes._subplots.AxesSubplot at 0x24601509320>"
      ]
     },
     "execution_count": 30,
     "metadata": {},
     "output_type": "execute_result"
    },
    {
     "data": {
      "image/png": "[encoded data removed]",
      "text/plain": [
       "<Figure size 432x288 with 1 Axes>"
      ]
     },
     "metadata": {},
     "output_type": "display_data"
    }
   ],
   "source": [
    "## Count of activities of  user:5\n",
    "\n",
    "activities_user_5 = df.loc[df['user']==5,:].groupby(['activity']).count()\n",
    "activities_user_5.plot.bar(y='x')"
   ]
  },
  {
   "cell_type": "markdown",
   "metadata": {},
   "source": [
    "## Count of activities of  user:6 Nicole Lucrezia\n",
    "\n",
    "Lucrezia has done almost every activity and has spent more time opearting computer."
   ]
  },
  {
   "cell_type": "code",
   "execution_count": 31,
   "metadata": {},
   "outputs": [
    {
     "data": {
      "text/plain": [
       "<matplotlib.axes._subplots.AxesSubplot at 0x2460158d588>"
      ]
     },
     "execution_count": 31,
     "metadata": {},
     "output_type": "execute_result"
    },
    {
     "data": {
      "image/png": "[encoded data removed]",
      "text/plain": [
       "<Figure size 432x288 with 1 Axes>"
      ]
     },
     "metadata": {},
     "output_type": "display_data"
    }
   ],
   "source": [
    "## Count of activities of  user:6\n",
    "\n",
    "activities_user_6 = df.loc[df['user']==6,:].groupby(['activity']).count()\n",
    "activities_user_6.plot.bar(y='x')"
   ]
  },
  {
   "cell_type": "markdown",
   "metadata": {},
   "source": [
    "## Count of activities of  user:7 Karolina Klucznik\n",
    "\n",
    "Klucznik has done almost every activity and has spent more time driving."
   ]
  },
  {
   "cell_type": "code",
   "execution_count": 32,
   "metadata": {},
   "outputs": [
    {
     "data": {
      "text/plain": [
       "<matplotlib.axes._subplots.AxesSubplot at 0x2460162aef0>"
      ]
     },
     "execution_count": 32,
     "metadata": {},
     "output_type": "execute_result"
    },
    {
     "data": {
      "image/png": "[encoded data removed]",
      "text/plain": [
       "<Figure size 432x288 with 1 Axes>"
      ]
     },
     "metadata": {},
     "output_type": "display_data"
    }
   ],
   "source": [
    "## Count of activities of  user:7\n",
    "\n",
    "activities_user_7 = df.loc[df['user']==7,:].groupby(['activity']).count()\n",
    "activities_user_7.plot.bar(y='x')"
   ]
  },
  {
   "cell_type": "code",
   "execution_count": null,
   "metadata": {},
   "outputs": [],
   "source": []
  }
 ],
 "metadata": {
  "kernelspec": {
   "display_name": "Python 3",
   "language": "python",
   "name": "python3"
  },
  "language_info": {
   "codemirror_mode": {
    "name": "ipython",
    "version": 3
   },
   "file_extension": ".py",
   "mimetype": "text/x-python",
   "name": "python",
   "nbconvert_exporter": "python",
   "pygments_lexer": "ipython3",
   "version": "3.6.5"
  }
 },
 "nbformat": 4,
 "nbformat_minor": 2
}
