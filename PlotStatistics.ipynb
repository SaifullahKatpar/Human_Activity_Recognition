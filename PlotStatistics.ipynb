{
 "cells": [
  {
   "cell_type": "code",
   "execution_count": 1,
   "metadata": {},
   "outputs": [],
   "source": [
    "import pandas as pd\n",
    "import matplotlib.pyplot as plt\n",
    "\n",
    "import numpy as np\n",
    "from scipy.signal import find_peaks\n",
    "from matplotlib.dates import date2num  \n",
    "from mpl_toolkits import mplot3d\n"
   ]
  },
  {
   "cell_type": "markdown",
   "metadata": {},
   "source": [
    "# Load and Transform data"
   ]
  },
  {
   "cell_type": "code",
   "execution_count": 2,
   "metadata": {},
   "outputs": [],
   "source": [
    "df = pd.read_csv('dataset_2019041.csv',header=None)\n",
    "# provide column names\n",
    "df.columns = ['x', 'y' , 'z' , 'timestamp' , 'activity' , 'user']\n",
    "# cast colum to timestamp\n",
    "df['timestamp'] = pd.to_datetime(df['timestamp'])\n",
    "df = df.set_index(df['timestamp'])"
   ]
  },
  {
   "cell_type": "markdown",
   "metadata": {},
   "source": [
    "# Create List of Users and Activities"
   ]
  },
  {
   "cell_type": "code",
   "execution_count": 3,
   "metadata": {},
   "outputs": [],
   "source": [
    "all_users=  [1,2,4,5,6,7]\n",
    "all_activities = [i+1 for i in range(19)]"
   ]
  },
  {
   "cell_type": "code",
   "execution_count": 4,
   "metadata": {},
   "outputs": [
    {
     "data": {
      "text/plain": [
       "\"\\n            if (durations['Date']==date).any():\\n                ind = durations[durations['Date']==date].index                    \\n                durations.loc[ind,'Duration']+= duration\\n            else:                        \\n\""
      ]
     },
     "execution_count": 4,
     "metadata": {},
     "output_type": "execute_result"
    }
   ],
   "source": [
    "def getDurations(df,users,activities):\n",
    "    ############ Duration of Each Activity for each user ###############\n",
    "    durations = pd.DataFrame(columns=['User','Activity','Date','Duration'])\n",
    "    count = 0\n",
    "    # each user in list\n",
    "    for user in users:\n",
    "        # each activity in list\n",
    "        for act in activities:\n",
    "            # dataframe indiced by user and activity\n",
    "            per_user_act = df.loc[(df.user.isin([user]) & df.activity.isin([act])),'timestamp']\n",
    "            count+=1\n",
    "            dates = per_user_act.dt.date.unique()\n",
    "            # duration of each activity for each user in hours\n",
    "            for date in dates:\n",
    "                # dataframe earlier selected indiced by date\n",
    "                per_user_act_day = per_user_act[str(date)]\n",
    "                # get duration of the given user, activity and on a perticular date\n",
    "                duration = (per_user_act_day[-1] - per_user_act_day[0])/np.timedelta64(1,'s')\n",
    "                #print(str(user)+'  '+str(act)+'   '+str(date)+'       '+str(duration))\n",
    "                durations = durations.append({'User': user,'Activity':act,'Date':date,'Duration':duration}, ignore_index=True)\n",
    "    return durations\n",
    "\n",
    "\"\"\"\n",
    "            if (durations['Date']==date).any():\n",
    "                ind = durations[durations['Date']==date].index                    \n",
    "                durations.loc[ind,'Duration']+= duration\n",
    "            else:                        \n",
    "\"\"\"\n",
    "    #durations = durations.sort_values(by='Date')\n",
    "        "
   ]
  },
  {
   "cell_type": "code",
   "execution_count": null,
   "metadata": {},
   "outputs": [],
   "source": []
  },
  {
   "cell_type": "code",
   "execution_count": 116,
   "metadata": {},
   "outputs": [],
   "source": [
    "def getActivityPercentages(df,users,activities):\n",
    "    ############ Percenatage of Each Activity for each user ###############"
   ]
  },
  {
   "cell_type": "code",
   "execution_count": 5,
   "metadata": {},
   "outputs": [],
   "source": [
    "def plotAcceleration3d(df,users,activities):\n",
    "    \n",
    "    ############ 3D Plot of Acceleration Vector ###############\n",
    "    count = 0\n",
    "    for user in users:\n",
    "        for act in activities:\n",
    "            fig = plt.figure(figsize=plt.figaspect(0.5))\n",
    "            ax = fig.add_subplot(len(users)*len(activities), 1, count+1, projection='3d')\n",
    "            count+=1\n",
    "            per_user_act = df.loc[(df.user.isin([user]) & df.activity.isin([act])),['x','y','z']]\n",
    "            plt.title('3D Plot of Acceleration Vector User: '+str(user)+'   activity: '+ str(act ))\n",
    "            zdata = per_user_act['z']\n",
    "            xdata = per_user_act['x']\n",
    "            ydata = per_user_act['y']\n",
    "            ax.scatter3D(xdata, ydata, zdata, c=zdata, cmap='Greens');\n"
   ]
  },
  {
   "cell_type": "code",
   "execution_count": 132,
   "metadata": {},
   "outputs": [],
   "source": [
    "def plotMeasures(df,users,activities,measures = ['acceleration','velocity','gravity','peaks','troughs']):\n",
    "    measures_dict = dict()\n",
    "    measures_dict['date'] = []\n",
    "    for m in measures:\n",
    "        measures_dict[m] = []\n",
    "        count = 0\n",
    "    for user in users:\n",
    "        for act in activities:\n",
    "            per_user_act = df.loc[(df.user.isin([user]) & df.activity.isin([act])),:]\n",
    "            xyz = per_user_act[['x','y','z']]\n",
    "            timestamp = per_user_act['timestamp']\n",
    "            dates = timestamp.dt.date.unique()\n",
    "            \n",
    "            for date in dates:\n",
    "                per_user_act_day = per_user_act[str(date)]\n",
    "                xyz_lagged = xyz.shift(1)\n",
    "                timestamp_lagged = timestamp.shift(1)\n",
    "                time_diff = (timestamp - timestamp_lagged)/np.timedelta64(1,'s')\n",
    "                time_diff = time_diff.fillna(0)\n",
    "                # acceleration\n",
    "                acceleration = np.sqrt(( (xyz['x'] - xyz_lagged['x'])**2 ) + ( (xyz['y'] - xyz_lagged['y'])**2 ) + ( (xyz['z'] - xyz_lagged['z'])**2 ))/100\n",
    "                #  difference between two dates converted to seconds gives the time interval bewtween two acceleration points                    \n",
    "                acceleration = acceleration.fillna(0)\n",
    "                # velocity\n",
    "                velocity = acceleration * time_diff     \n",
    "                # peaks in x axis signals\n",
    "                peaks = []\n",
    "                axes = ['x','y','z']\n",
    "                for dim in axes:\n",
    "                    axis = xyz[dim]\n",
    "                    peaks_indices, _ = find_peaks(axis, height=axis.mean()) # higher than the mean\n",
    "                    axis_peaks = axis[peaks_indices]\n",
    "                    peaks.append(axis_peaks)\n",
    "                    \n",
    "                # velocity plots\n",
    "                plt.figure(figsize=(15,9))\n",
    "                plt.subplot(2, 1,1)\n",
    "                plt.title('Day: '+ str(day) +' Velocity for user: '+str(user)+'   activity: '+ str(act ))\n",
    "                plt.xlabel('Index')\n",
    "                plt.ylabel('Velocity (m/sec)')\n",
    "                plt.plot(velocity)\n",
    "                plt.show()\n",
    "\n",
    "                # accerleration plots\n",
    "                plt.figure(figsize=(15,9))\n",
    "                plt.subplot(2, 1,2)\n",
    "                plt.title('Day: '+str(day) +' Acceleration for user: '+str(user)+'   activity: '+ str(act ))\n",
    "                plt.xlabel('Index')\n",
    "                plt.ylabel('acceleration (m/sec^2)')\n",
    "                plt.plot(acceleration)\n",
    "                plt.show()\n",
    "                  \n",
    "                    # create a plot for each column\n",
    "                for i in range(len(peaks)):\n",
    "                    plt.figure(figsize=(20,10))\n",
    "                    plt.subplot(3, 1,i+1)\n",
    "                    plt.title('Peaks for   Day: '+ str(day) +'   User: '+str(user)+'   Activity: '+ str(act )+'  Axis: '+axes[i])\n",
    "                    plt.plot(peaks[i])\n",
    "                    plt.show()\n",
    "   \n",
    "\n",
    "    \n",
    "\n",
    "    "
   ]
  },
  {
   "cell_type": "code",
   "execution_count": null,
   "metadata": {},
   "outputs": [],
   "source": []
  },
  {
   "cell_type": "code",
   "execution_count": null,
   "metadata": {},
   "outputs": [],
   "source": []
  },
  {
   "cell_type": "markdown",
   "metadata": {},
   "source": []
  },
  {
   "cell_type": "code",
   "execution_count": 6,
   "metadata": {},
   "outputs": [],
   "source": [
    "\n",
    "\n",
    "    \n",
    "def plotStatistics(users=all_users, activities=all_activities, offsetInPercent=10,filters=['lowpass']):        \n",
    "        # select data by user and activities\n",
    "        sub_data = df.loc[df.user.isin(users) & df.activity.isin(activities),:]\n",
    "        \n",
    "        # data points per user\n",
    "        #sub_data.groupby(['user']).count().plot.bar(y='x')\n",
    "        #plotMeasures(sub_data,users,activities,measures = ['acceleration','velocity','gravity','peaks','troughs'])\n",
    "        # number of activities per user\n",
    "        #sub_data.groupby(['user'])['activity'].nunique().plot.bar()\n",
    "        #plotActivityPercentages(sub_data,users,activities)\n",
    "        #return getDurations(sub_data,users,activities)\n",
    "        durations = getDurations(sub_data,users,activities)\n",
    "        plt.figure(figsize=(60,30))\n",
    "        plt.title('Durations of Actvities done by Users on different Dates')\n",
    "        plt.xlabel('User,Actvity,Date')\n",
    "        plt.ylabel('Duration in Seconds')\n",
    "        durations.groupby(['User','Activity','Date']).sum().plot.bar(y='Duration',ax = plt.gca())\n",
    "        \n",
    "        plotAcceleration3d(sub_data,users,activities)\n",
    "                    "
   ]
  },
  {
   "cell_type": "code",
   "execution_count": null,
   "metadata": {},
   "outputs": [],
   "source": [
    "plotStatistics(all_users,all_activities)\n",
    "#a = plotStatistics([1,2,3,4,5,6],[i for i in range(1,20)])\n"
   ]
  },
  {
   "cell_type": "code",
   "execution_count": 42,
   "metadata": {},
   "outputs": [
    {
     "data": {
      "image/png": "[encoded data removed]",
      "text/plain": [
       "<Figure size 432x288 with 1 Axes>"
      ]
     },
     "metadata": {},
     "output_type": "display_data"
    }
   ],
   "source": [
    "import numpy as np\n",
    "import matplotlib\n",
    "import matplotlib.pyplot as plt\n",
    "\n",
    "vegetables = [\"cucumber\", \"tomato\", \"lettuce\", \"asparagus\",\n",
    "              \"potato\", \"wheat\", \"barley\"]\n",
    "farmers = [\"Farmer Joe\", \"Upland Bros.\", \"Smith Gardening\",\n",
    "           \"Agrifun\", \"Organiculture\", \"BioGoods Ltd.\", \"Cornylee Corp.\"]\n",
    "\n",
    "harvest = np.array([[0.8, 2.4, 2.5, 3.9, 0.0, 4.0, 0.0],\n",
    "                    [2.4, 0.0, 4.0, 1.0, 2.7, 0.0, 0.0],\n",
    "                    [1.1, 2.4, 0.8, 4.3, 1.9, 4.4, 0.0],\n",
    "                    [0.6, 0.0, 0.3, 0.0, 3.1, 0.0, 0.0],\n",
    "                    [0.7, 1.7, 0.6, 2.6, 2.2, 6.2, 0.0],\n",
    "                    [1.3, 1.2, 0.0, 0.0, 0.0, 3.2, 5.1],\n",
    "                    [0.1, 2.0, 0.0, 1.4, 0.0, 1.9, 6.3]])\n",
    "\n",
    "\n",
    "fig, ax = plt.subplots()\n",
    "im = ax.imshow(harvest)\n",
    "\n",
    "# We want to show all ticks...\n",
    "ax.set_xticks(np.arange(len(farmers)))\n",
    "ax.set_yticks(np.arange(len(vegetables)))\n",
    "# ... and label them with the respective list entries\n",
    "ax.set_xticklabels(farmers)\n",
    "ax.set_yticklabels(vegetables)\n",
    "\n",
    "# Rotate the tick labels and set their alignment.\n",
    "plt.setp(ax.get_xticklabels(), rotation=45, ha=\"right\",\n",
    "         rotation_mode=\"anchor\")\n",
    "\n",
    "# Loop over data dimensions and create text annotations.\n",
    "for i in range(len(vegetables)):\n",
    "    for j in range(len(farmers)):\n",
    "        text = ax.text(j, i, harvest[i, j],\n",
    "                       ha=\"center\", va=\"center\", color=\"w\")\n",
    "\n",
    "ax.set_title(\"Harvest of local farmers (in tons/year)\")\n",
    "fig.tight_layout()\n",
    "plt.show()"
   ]
  },
  {
   "cell_type": "code",
   "execution_count": null,
   "metadata": {},
   "outputs": [],
   "source": [
    "                \n",
    "\"\"\"\n",
    "\n",
    "\"\"\"\n"
   ]
  },
  {
   "cell_type": "markdown",
   "metadata": {},
   "source": [
    "# Still to include Means and other things in this function from HAR-Copy4"
   ]
  }
 ],
 "metadata": {
  "kernelspec": {
   "display_name": "Python 3",
   "language": "python",
   "name": "python3"
  },
  "language_info": {
   "codemirror_mode": {
    "name": "ipython",
    "version": 3
   },
   "file_extension": ".py",
   "mimetype": "text/x-python",
   "name": "python",
   "nbconvert_exporter": "python",
   "pygments_lexer": "ipython3",
   "version": "3.6.5"
  }
 },
 "nbformat": 4,
 "nbformat_minor": 2
}
